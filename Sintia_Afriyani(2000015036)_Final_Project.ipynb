{
  "nbformat": 4,
  "nbformat_minor": 0,
  "metadata": {
    "colab": {
      "name": "Sintia Afriyani(2000015036) Final Project.ipynb",
      "provenance": []
    },
    "kernelspec": {
      "name": "python3",
      "display_name": "Python 3"
    },
    "language_info": {
      "name": "python"
    }
  },
  "cells": [
    {
      "cell_type": "markdown",
      "metadata": {
        "id": "0FhwnAZNldu0"
      },
      "source": [
        "##KNN With Various Distance Functions"
      ]
    },
    {
      "cell_type": "markdown",
      "metadata": {
        "id": "2dYhdSyzlhVJ"
      },
      "source": [
        "Import Library"
      ]
    },
    {
      "cell_type": "code",
      "metadata": {
        "id": "qU5HmWlC8R-x"
      },
      "source": [
        "from matplotlib.colors import ListedColormap\n",
        "from sklearn import datasets                                 # Library for sample dataset\n",
        "from sklearn.model_selection import train_test_split         # Library for spliting data into training & testing\n",
        "from collections import Counter                              # Library for find most common elemen in the series\n",
        "import numpy as np                                           # library for numerical in python\n",
        "import pandas as pd\n",
        "import matplotlib.pyplot as plt\n",
        "import seaborn as sns\n",
        "import time"
      ],
      "execution_count": 5,
      "outputs": []
    },
    {
      "cell_type": "markdown",
      "metadata": {
        "id": "IagO52GOm2yZ"
      },
      "source": [
        "import dataset"
      ]
    },
    {
      "cell_type": "code",
      "metadata": {
        "colab": {
          "base_uri": "https://localhost:8080/",
          "height": 419
        },
        "id": "5pt4j5ADlch5",
        "outputId": "91e854ee-423f-4811-f528-49d717209cda"
      },
      "source": [
        "df = pd.read_csv(\"https://raw.githubusercontent.com/Sintia-Afriyani/Tugas/main/Social_Network_Ads.csv\")\n",
        "df"
      ],
      "execution_count": 6,
      "outputs": [
        {
          "output_type": "execute_result",
          "data": {
            "text/html": [
              "<div>\n",
              "<style scoped>\n",
              "    .dataframe tbody tr th:only-of-type {\n",
              "        vertical-align: middle;\n",
              "    }\n",
              "\n",
              "    .dataframe tbody tr th {\n",
              "        vertical-align: top;\n",
              "    }\n",
              "\n",
              "    .dataframe thead th {\n",
              "        text-align: right;\n",
              "    }\n",
              "</style>\n",
              "<table border=\"1\" class=\"dataframe\">\n",
              "  <thead>\n",
              "    <tr style=\"text-align: right;\">\n",
              "      <th></th>\n",
              "      <th>User ID</th>\n",
              "      <th>Gender</th>\n",
              "      <th>Age</th>\n",
              "      <th>EstimatedSalary</th>\n",
              "      <th>Purchased</th>\n",
              "    </tr>\n",
              "  </thead>\n",
              "  <tbody>\n",
              "    <tr>\n",
              "      <th>0</th>\n",
              "      <td>15624510</td>\n",
              "      <td>Male</td>\n",
              "      <td>19</td>\n",
              "      <td>19000</td>\n",
              "      <td>0</td>\n",
              "    </tr>\n",
              "    <tr>\n",
              "      <th>1</th>\n",
              "      <td>15810944</td>\n",
              "      <td>Male</td>\n",
              "      <td>35</td>\n",
              "      <td>20000</td>\n",
              "      <td>0</td>\n",
              "    </tr>\n",
              "    <tr>\n",
              "      <th>2</th>\n",
              "      <td>15668575</td>\n",
              "      <td>Female</td>\n",
              "      <td>26</td>\n",
              "      <td>43000</td>\n",
              "      <td>0</td>\n",
              "    </tr>\n",
              "    <tr>\n",
              "      <th>3</th>\n",
              "      <td>15603246</td>\n",
              "      <td>Female</td>\n",
              "      <td>27</td>\n",
              "      <td>57000</td>\n",
              "      <td>0</td>\n",
              "    </tr>\n",
              "    <tr>\n",
              "      <th>4</th>\n",
              "      <td>15804002</td>\n",
              "      <td>Male</td>\n",
              "      <td>19</td>\n",
              "      <td>76000</td>\n",
              "      <td>0</td>\n",
              "    </tr>\n",
              "    <tr>\n",
              "      <th>...</th>\n",
              "      <td>...</td>\n",
              "      <td>...</td>\n",
              "      <td>...</td>\n",
              "      <td>...</td>\n",
              "      <td>...</td>\n",
              "    </tr>\n",
              "    <tr>\n",
              "      <th>395</th>\n",
              "      <td>15691863</td>\n",
              "      <td>Female</td>\n",
              "      <td>46</td>\n",
              "      <td>41000</td>\n",
              "      <td>1</td>\n",
              "    </tr>\n",
              "    <tr>\n",
              "      <th>396</th>\n",
              "      <td>15706071</td>\n",
              "      <td>Male</td>\n",
              "      <td>51</td>\n",
              "      <td>23000</td>\n",
              "      <td>1</td>\n",
              "    </tr>\n",
              "    <tr>\n",
              "      <th>397</th>\n",
              "      <td>15654296</td>\n",
              "      <td>Female</td>\n",
              "      <td>50</td>\n",
              "      <td>20000</td>\n",
              "      <td>1</td>\n",
              "    </tr>\n",
              "    <tr>\n",
              "      <th>398</th>\n",
              "      <td>15755018</td>\n",
              "      <td>Male</td>\n",
              "      <td>36</td>\n",
              "      <td>33000</td>\n",
              "      <td>0</td>\n",
              "    </tr>\n",
              "    <tr>\n",
              "      <th>399</th>\n",
              "      <td>15594041</td>\n",
              "      <td>Female</td>\n",
              "      <td>49</td>\n",
              "      <td>36000</td>\n",
              "      <td>1</td>\n",
              "    </tr>\n",
              "  </tbody>\n",
              "</table>\n",
              "<p>400 rows × 5 columns</p>\n",
              "</div>"
            ],
            "text/plain": [
              "      User ID  Gender  Age  EstimatedSalary  Purchased\n",
              "0    15624510    Male   19            19000          0\n",
              "1    15810944    Male   35            20000          0\n",
              "2    15668575  Female   26            43000          0\n",
              "3    15603246  Female   27            57000          0\n",
              "4    15804002    Male   19            76000          0\n",
              "..        ...     ...  ...              ...        ...\n",
              "395  15691863  Female   46            41000          1\n",
              "396  15706071    Male   51            23000          1\n",
              "397  15654296  Female   50            20000          1\n",
              "398  15755018    Male   36            33000          0\n",
              "399  15594041  Female   49            36000          1\n",
              "\n",
              "[400 rows x 5 columns]"
            ]
          },
          "metadata": {},
          "execution_count": 6
        }
      ]
    },
    {
      "cell_type": "markdown",
      "metadata": {
        "id": "jkMGlTE9nN7F"
      },
      "source": [
        "Memisahkan data menjadi variabel X dan y"
      ]
    },
    {
      "cell_type": "code",
      "metadata": {
        "id": "qkP8tLaQHdgH"
      },
      "source": [
        "# Spliting data into variable X and y\n",
        "X, y = df.EstimatedSalary\t, df.Purchased"
      ],
      "execution_count": 7,
      "outputs": []
    },
    {
      "cell_type": "code",
      "metadata": {
        "id": "wcfpXzIq-Uo_"
      },
      "source": [
        "X = np.array(df[\"EstimatedSalary\"])\n",
        "y = np.array(df[\"Purchased\"])"
      ],
      "execution_count": 8,
      "outputs": []
    },
    {
      "cell_type": "markdown",
      "metadata": {
        "id": "JCOLkcASWuXw"
      },
      "source": [
        "##Data Preprocessing"
      ]
    },
    {
      "cell_type": "markdown",
      "metadata": {
        "id": "bsvcGlGaW5sS"
      },
      "source": [
        "membagi data menjadi bagian pelatihan dan pengujian"
      ]
    },
    {
      "cell_type": "code",
      "metadata": {
        "id": "-8JB45bJHhy1"
      },
      "source": [
        "# Split the data into training and testing part\n",
        "X_latih, X_uji, y_latih, y_uji = train_test_split(X, y, test_size=0.20, random_state=1234)"
      ],
      "execution_count": 9,
      "outputs": []
    },
    {
      "cell_type": "markdown",
      "metadata": {
        "id": "XHmnXhsCXAT8"
      },
      "source": [
        "##Distance Function"
      ]
    },
    {
      "cell_type": "code",
      "metadata": {
        "id": "rD0u3a6pH59D"
      },
      "source": [
        "import scipy.spatial.distance as dst"
      ],
      "execution_count": 10,
      "outputs": []
    },
    {
      "cell_type": "code",
      "metadata": {
        "colab": {
          "base_uri": "https://localhost:8080/"
        },
        "id": "cEEVvlUhH7Q-",
        "outputId": "71cfe8f6-0041-4782-c0d1-c0d887f632ac"
      },
      "source": [
        "# Euclidean Distance\n",
        "dst.euclidean([0,0], [1,1])"
      ],
      "execution_count": 11,
      "outputs": [
        {
          "output_type": "execute_result",
          "data": {
            "text/plain": [
              "1.4142135623730951"
            ]
          },
          "metadata": {},
          "execution_count": 11
        }
      ]
    },
    {
      "cell_type": "code",
      "metadata": {
        "colab": {
          "base_uri": "https://localhost:8080/"
        },
        "id": "3lv46vwGIAKR",
        "outputId": "012940c6-fa16-436c-e7ae-144e8866e583"
      },
      "source": [
        "# Manhattan/Cityblock Distance\n",
        "dst.cityblock([0,0], [1,1])"
      ],
      "execution_count": 12,
      "outputs": [
        {
          "output_type": "execute_result",
          "data": {
            "text/plain": [
              "2"
            ]
          },
          "metadata": {},
          "execution_count": 12
        }
      ]
    },
    {
      "cell_type": "code",
      "metadata": {
        "colab": {
          "base_uri": "https://localhost:8080/"
        },
        "id": "1AcTRPDOIFkT",
        "outputId": "9ed798ab-1af8-427a-e39b-4cbaa795931b"
      },
      "source": [
        "# Minkowski Distance\n",
        "dst.minkowski([0,0], [1,1])"
      ],
      "execution_count": 13,
      "outputs": [
        {
          "output_type": "execute_result",
          "data": {
            "text/plain": [
              "1.4142135623730951"
            ]
          },
          "metadata": {},
          "execution_count": 13
        }
      ]
    },
    {
      "cell_type": "code",
      "metadata": {
        "colab": {
          "base_uri": "https://localhost:8080/"
        },
        "id": "KVb4yHSeIK0j",
        "outputId": "b6aa1810-2efc-499b-a63d-7646beb4825a"
      },
      "source": [
        "# Chebisev Distance\n",
        "dst.chebyshev([0,0], [1,1])"
      ],
      "execution_count": 14,
      "outputs": [
        {
          "output_type": "execute_result",
          "data": {
            "text/plain": [
              "1"
            ]
          },
          "metadata": {},
          "execution_count": 14
        }
      ]
    },
    {
      "cell_type": "code",
      "metadata": {
        "colab": {
          "base_uri": "https://localhost:8080/"
        },
        "id": "Asio3gIyIRca",
        "outputId": "42e71203-b237-4857-9be5-e37e72ef9c93"
      },
      "source": [
        "# Bray Curtis Distance\n",
        "dst.braycurtis([0,0], [1,1])"
      ],
      "execution_count": 15,
      "outputs": [
        {
          "output_type": "execute_result",
          "data": {
            "text/plain": [
              "1.0"
            ]
          },
          "metadata": {},
          "execution_count": 15
        }
      ]
    },
    {
      "cell_type": "code",
      "metadata": {
        "colab": {
          "base_uri": "https://localhost:8080/"
        },
        "id": "93eDjaj9IWv8",
        "outputId": "4ee8ab2b-06bb-41be-dab5-2a229f49f77c"
      },
      "source": [
        "# Canberra Distance\n",
        "dst.canberra([0,0], [1,1])"
      ],
      "execution_count": 16,
      "outputs": [
        {
          "output_type": "execute_result",
          "data": {
            "text/plain": [
              "2.0"
            ]
          },
          "metadata": {},
          "execution_count": 16
        }
      ]
    },
    {
      "cell_type": "markdown",
      "metadata": {
        "id": "6hERlqKmXIYv"
      },
      "source": [
        "##KNN Function"
      ]
    },
    {
      "cell_type": "code",
      "metadata": {
        "id": "5lceZn8PIfsG"
      },
      "source": [
        "def _knn_euclidean(x):\n",
        "    # Menghitung jarak antara x baru dengan semua sampel di data latih\n",
        "    jarak = [dst.euclidean(x, x_latih) for x_latih in X_latih]\n",
        "    # Mengurutkan data dan mengambil sejumlah k objek\n",
        "    k_idx = np.argsort(jarak)[: k]\n",
        "    # Mengambil kelas dari k tetangga terdekat dari data latih\n",
        "    k_neighbor_labels = [y_latih[i] for i in k_idx]\n",
        "    # Mengambil kelas yang paling sering muncul\n",
        "    kelas_paling_banyak = Counter(k_neighbor_labels).most_common(1)\n",
        "    return kelas_paling_banyak[0][0]\n",
        "\n",
        "def KNN_euclidean(X_latih, y_latih, k, x_baru):\n",
        "    y_pred= [_knn_euclidean(x_i) for x_i in x_baru]\n",
        "    return np.array(y_pred)"
      ],
      "execution_count": 17,
      "outputs": []
    },
    {
      "cell_type": "code",
      "metadata": {
        "id": "BhJQpG9UIhMn"
      },
      "source": [
        "def _knn_cityblock(x):\n",
        "    # Menghitung jarak antara x baru dengan semua sampel di data latih\n",
        "    jarak = [dst.cityblock(x, x_latih) for x_latih in X_latih]\n",
        "    # Mengurutkan data dan mengambil sejumlah k objek\n",
        "    k_idx = np.argsort(jarak)[: k]\n",
        "    # Mengambil kelas dari k tetangga terdekat dari data latih\n",
        "    k_neighbor_labels = [y_latih[i] for i in k_idx]\n",
        "    # Mengambil kelas yang paling sering muncul\n",
        "    kelas_paling_banyak = Counter(k_neighbor_labels).most_common(1)\n",
        "    return kelas_paling_banyak[0][0]\n",
        "\n",
        "def KNN_cityblock(X_latih, y_latih, k, x_baru):\n",
        "    y_pred= [_knn_cityblock(x_i) for x_i in x_baru]\n",
        "    return np.array(y_pred)"
      ],
      "execution_count": 18,
      "outputs": []
    },
    {
      "cell_type": "code",
      "metadata": {
        "id": "SMnA5FVcIlkC"
      },
      "source": [
        "def _knn_minkowski(x):\n",
        "    # Menghitung jarak antara x baru dengan semua sampel di data latih\n",
        "    jarak = [dst.minkowski(x, x_latih) for x_latih in X_latih]\n",
        "    # Mengurutkan data dan mengambil sejumlah k objek\n",
        "    k_idx = np.argsort(jarak)[: k]\n",
        "    # Mengambil kelas dari k tetangga terdekat dari data latih\n",
        "    k_neighbor_labels = [y_latih[i] for i in k_idx]\n",
        "    # Mengambil kelas yang paling sering muncul\n",
        "    kelas_paling_banyak = Counter(k_neighbor_labels).most_common(1)\n",
        "    return kelas_paling_banyak[0][0]\n",
        "\n",
        "def KNN_minkowski(X_latih, y_latih, k, x_baru):\n",
        "    y_pred= [_knn_minkowski(x_i) for x_i in x_baru]\n",
        "    return np.array(y_pred)"
      ],
      "execution_count": 19,
      "outputs": []
    },
    {
      "cell_type": "code",
      "metadata": {
        "id": "UEffJNuWIqJT"
      },
      "source": [
        "def _knn_chebyshev(x):\n",
        "    # Menghitung jarak antara x baru dengan semua sampel di data latih\n",
        "    jarak = [dst.chebyshev(x, x_latih) for x_latih in X_latih]\n",
        "    # Mengurutkan data dan mengambil sejumlah k objek\n",
        "    k_idx = np.argsort(jarak)[: k]\n",
        "    # Mengambil kelas dari k tetangga terdekat dari data latih\n",
        "    k_neighbor_labels = [y_latih[i] for i in k_idx]\n",
        "    # Mengambil kelas yang paling sering muncul\n",
        "    kelas_paling_banyak = Counter(k_neighbor_labels).most_common(1)\n",
        "    return kelas_paling_banyak[0][0]\n",
        "\n",
        "def KNN_chebyshev(X_latih, y_latih, k, x_baru):\n",
        "    y_pred= [_knn_chebyshev(x_i) for x_i in x_baru]\n",
        "    return np.array(y_pred)"
      ],
      "execution_count": 20,
      "outputs": []
    },
    {
      "cell_type": "code",
      "metadata": {
        "id": "RcCfzT9xIul-"
      },
      "source": [
        "def _knn_braycurtis(x):\n",
        "    # Menghitung jarak antara x baru dengan semua sampel di data latih\n",
        "    jarak = [dst.braycurtis(x, x_latih) for x_latih in X_latih]\n",
        "    # Mengurutkan data dan mengambil sejumlah k objek\n",
        "    k_idx = np.argsort(jarak)[: k]\n",
        "    # Mengambil kelas dari k tetangga terdekat dari data latih\n",
        "    k_neighbor_labels = [y_latih[i] for i in k_idx]\n",
        "    # Mengambil kelas yang paling sering muncul\n",
        "    kelas_paling_banyak = Counter(k_neighbor_labels).most_common(1)\n",
        "    return kelas_paling_banyak[0][0]\n",
        "\n",
        "def KNN_braycurtis(X_latih, y_latih, k, x_baru):\n",
        "    y_pred= [_knn_braycurtis(x_i) for x_i in x_baru]\n",
        "    return np.array(y_pred)"
      ],
      "execution_count": 21,
      "outputs": []
    },
    {
      "cell_type": "code",
      "metadata": {
        "id": "LPzCzLMiI0IU"
      },
      "source": [
        "def _knn_canberra(x):\n",
        "    # Menghitung jarak antara x baru dengan semua sampel di data latih\n",
        "    jarak = [dst.canberra(x, x_latih) for x_latih in X_latih]\n",
        "    # Mengurutkan data dan mengambil sejumlah k objek\n",
        "    k_idx = np.argsort(jarak)[: k]\n",
        "    # Mengambil kelas dari k tetangga terdekat dari data latih\n",
        "    k_neighbor_labels = [y_latih[i] for i in k_idx]\n",
        "    # Mengambil kelas yang paling sering muncul\n",
        "    kelas_paling_banyak = Counter(k_neighbor_labels).most_common(1)\n",
        "    return kelas_paling_banyak[0][0]\n",
        "\n",
        "def KNN_canberra(X_latih, y_latih, k, x_baru):\n",
        "    y_pred= [_knn_canberra(x_i) for x_i in x_baru]\n",
        "    return np.array(y_pred)"
      ],
      "execution_count": 22,
      "outputs": []
    },
    {
      "cell_type": "markdown",
      "metadata": {
        "id": "bKDWS8fSXRS5"
      },
      "source": [
        "##Evaluation Function"
      ]
    },
    {
      "cell_type": "code",
      "metadata": {
        "id": "_eNOvEd6I5RA"
      },
      "source": [
        "from sklearn.metrics import accuracy_score\n",
        "from sklearn.metrics import precision_score\n",
        "from sklearn.metrics import recall_score\n",
        "from sklearn.metrics import f1_score"
      ],
      "execution_count": 23,
      "outputs": []
    },
    {
      "cell_type": "markdown",
      "metadata": {
        "id": "mC4MZ3YKXjqE"
      },
      "source": [
        "##Plot Function"
      ]
    },
    {
      "cell_type": "code",
      "metadata": {
        "id": "IEh7FVd4I-XQ"
      },
      "source": [
        "def bar_plot(df, evalf):\n",
        "\n",
        "    # Memilih tema plot\n",
        "    sns.set_theme(style=\"whitegrid\")\n",
        "\n",
        "    # Membuat sebuah figure dan sebuah axes\n",
        "    fig, ax=plt.subplots(figsize=(10,8)) # figsize=(x,y) untuk menentukan ukuran gambar\n",
        "\n",
        "    # Melakukan bar plot\n",
        "    ax = sns.barplot(data=df,               # Nama DataFrame\n",
        "                     y=evalf,               # Data sumbu Y\n",
        "                     x=df.index             # Data sumbu X\n",
        "\n",
        "                    )\n",
        "    for bar in ax.patches:\n",
        "        ax.annotate(format(bar.get_height(), '.2f'),\n",
        "                   (bar.get_x() + bar.get_width() / 2,\n",
        "                    bar.get_height()), ha='center', va='center',\n",
        "                   size=15, xytext=(0, 8),\n",
        "                   textcoords='offset points')\n",
        "    # Mengatur sudut rotasi label stepsize sumbu x\n",
        "    plt.xticks(rotation=80)\n",
        "\n",
        "    # Mengganti label sumbu x\n",
        "    ax.set_xlabel('distance')\n",
        "\n",
        "    # Mengganti label sumbu y\n",
        "    ax.set_ylabel('{} score'.format(evalf))\n",
        "\n",
        "    # Mengatur Judul Gambar\n",
        "    ax.set_title('Evaluation Score of KNN with Various Distance', fontsize=16, fontweight='bold')\n",
        "\n",
        "    # Menampilkan Gambar\n",
        "    plt.show()\n"
      ],
      "execution_count": 24,
      "outputs": []
    },
    {
      "cell_type": "markdown",
      "metadata": {
        "id": "HpOGX6Q8Xr4m"
      },
      "source": [
        "##Experimentations"
      ]
    },
    {
      "cell_type": "code",
      "metadata": {
        "id": "SaIoNaS-JIwx"
      },
      "source": [
        "# Parameter\n",
        "k=2"
      ],
      "execution_count": 25,
      "outputs": []
    },
    {
      "cell_type": "code",
      "metadata": {
        "colab": {
          "base_uri": "https://localhost:8080/"
        },
        "id": "vfly5MuzJMA7",
        "outputId": "c9b4d401-827e-4e7c-c1c3-533405751935"
      },
      "source": [
        "# KNN Euclidean Distance\n",
        "start = time.time()\n",
        "y_pred= KNN_euclidean(X_latih, y_latih, k, X_uji)\n",
        "finish = time.time()\n",
        "time_comp = finish-start\n",
        "# Evaluation\n",
        "euclidean =[accuracy_score(y_uji, y_pred),\n",
        "           precision_score(y_uji, y_pred, average='weighted'),\n",
        "           recall_score(y_uji, y_pred, average='weighted'),\n",
        "           f1_score(y_uji, y_pred, average='weighted'),\n",
        "           time_comp]\n",
        "euclidean "
      ],
      "execution_count": 26,
      "outputs": [
        {
          "output_type": "execute_result",
          "data": {
            "text/plain": [
              "[0.775, 0.7796991210277214, 0.775, 0.7768543956043956, 0.45690441131591797]"
            ]
          },
          "metadata": {},
          "execution_count": 26
        }
      ]
    },
    {
      "cell_type": "code",
      "metadata": {
        "colab": {
          "base_uri": "https://localhost:8080/"
        },
        "id": "O37VMLcW_SL7",
        "outputId": "49f3d555-5b75-474d-f2da-a627b71046ce"
      },
      "source": [
        "# KNN Manhattan/City Block Distance\n",
        "start = time.time()\n",
        "y_pred=KNN_cityblock(X_latih, y_latih, k, X_uji)\n",
        "finish = time.time()\n",
        "time_comp = finish-start\n",
        "# Evaluation\n",
        "manhattan =[accuracy_score(y_uji, y_pred),\n",
        "           precision_score(y_uji, y_pred, average='weighted'),\n",
        "           recall_score(y_uji, y_pred, average='weighted'),\n",
        "           f1_score(y_uji, y_pred, average='weighted'),\n",
        "           time_comp]\n",
        "manhattan "
      ],
      "execution_count": 27,
      "outputs": [
        {
          "output_type": "execute_result",
          "data": {
            "text/plain": [
              "[0.775, 0.7796991210277214, 0.775, 0.7768543956043956, 0.31917619705200195]"
            ]
          },
          "metadata": {},
          "execution_count": 27
        }
      ]
    },
    {
      "cell_type": "code",
      "metadata": {
        "colab": {
          "base_uri": "https://localhost:8080/"
        },
        "id": "IFW1sgvi_UL-",
        "outputId": "e8cf2608-b08a-4a6b-86b5-a31787ef15ca"
      },
      "source": [
        "# KNN Minkowski Distance\n",
        "start = time.time()\n",
        "y_pred=KNN_minkowski(X_latih, y_latih, k, X_uji)\n",
        "finish = time.time()\n",
        "time_comp = finish-start\n",
        "# Evaluation\n",
        "minkowski =[accuracy_score(y_uji, y_pred),\n",
        "           precision_score(y_uji, y_pred, average='weighted'),\n",
        "           recall_score(y_uji, y_pred, average='weighted'),\n",
        "           f1_score(y_uji, y_pred, average='weighted'),\n",
        "           time_comp]\n",
        "minkowski"
      ],
      "execution_count": 28,
      "outputs": [
        {
          "output_type": "execute_result",
          "data": {
            "text/plain": [
              "[0.775, 0.7796991210277214, 0.775, 0.7768543956043956, 0.4500458240509033]"
            ]
          },
          "metadata": {},
          "execution_count": 28
        }
      ]
    },
    {
      "cell_type": "code",
      "metadata": {
        "colab": {
          "base_uri": "https://localhost:8080/"
        },
        "id": "kSCDqVl-_Xz1",
        "outputId": "e2b1b730-a264-4dd3-9d82-289d363abec0"
      },
      "source": [
        "# KNN Chebyshev Distance\n",
        "start = time.time()\n",
        "y_pred=KNN_chebyshev(X_latih, y_latih, k, X_uji)\n",
        "finish = time.time()\n",
        "time_comp = finish-start\n",
        "# Evaluation\n",
        "chebyshev =[accuracy_score(y_uji, y_pred),\n",
        "           precision_score(y_uji, y_pred, average='weighted'),\n",
        "           recall_score(y_uji, y_pred, average='weighted'),\n",
        "           f1_score(y_uji, y_pred, average='weighted'),\n",
        "           time_comp]\n",
        "chebyshev"
      ],
      "execution_count": 29,
      "outputs": [
        {
          "output_type": "execute_result",
          "data": {
            "text/plain": [
              "[0.775, 0.7796991210277214, 0.775, 0.7768543956043956, 0.28443408012390137]"
            ]
          },
          "metadata": {},
          "execution_count": 29
        }
      ]
    },
    {
      "cell_type": "code",
      "metadata": {
        "colab": {
          "base_uri": "https://localhost:8080/"
        },
        "id": "iFvxsIix_bFb",
        "outputId": "67d776ca-1894-4f71-befe-1c12d6ed2154"
      },
      "source": [
        "# KNN Bray Curtis Distance\n",
        "start = time.time()\n",
        "y_pred=KNN_braycurtis(X_latih, y_latih, k, X_uji)\n",
        "finish = time.time()\n",
        "time_comp = finish-start\n",
        "# Evaluation\n",
        "braycurtis =[accuracy_score(y_uji, y_pred),\n",
        "           precision_score(y_uji, y_pred, average='weighted'),\n",
        "           recall_score(y_uji, y_pred, average='weighted'),\n",
        "           f1_score(y_uji, y_pred, average='weighted'),\n",
        "           time_comp]\n",
        "braycurtis"
      ],
      "execution_count": 30,
      "outputs": [
        {
          "output_type": "execute_result",
          "data": {
            "text/plain": [
              "[0.7375, 0.7352386039886041, 0.7375, 0.7362502204196792, 0.4951140880584717]"
            ]
          },
          "metadata": {},
          "execution_count": 30
        }
      ]
    },
    {
      "cell_type": "code",
      "metadata": {
        "colab": {
          "base_uri": "https://localhost:8080/"
        },
        "id": "NP9JOTXu_jT7",
        "outputId": "841a83b1-98f5-4205-a2b4-f0be360b5319"
      },
      "source": [
        "# KNN Canberra Distance\n",
        "start = time.time()\n",
        "y_pred=KNN_canberra(X_latih, y_latih, k, X_uji)\n",
        "finish = time.time()\n",
        "time_comp = finish-start\n",
        "# Evaluation\n",
        "canberra =[accuracy_score(y_uji, y_pred),\n",
        "           precision_score(y_uji, y_pred, average='weighted'),\n",
        "           recall_score(y_uji, y_pred, average='weighted'),\n",
        "           f1_score(y_uji, y_pred, average='weighted'),\n",
        "           time_comp]\n",
        "canberra"
      ],
      "execution_count": 31,
      "outputs": [
        {
          "output_type": "execute_result",
          "data": {
            "text/plain": [
              "[0.7375, 0.7352386039886041, 0.7375, 0.7362502204196792, 0.904226541519165]"
            ]
          },
          "metadata": {},
          "execution_count": 31
        }
      ]
    },
    {
      "cell_type": "markdown",
      "metadata": {
        "id": "O9Iz1sURaMlY"
      },
      "source": [
        "##Evaluation"
      ]
    },
    {
      "cell_type": "code",
      "metadata": {
        "colab": {
          "base_uri": "https://localhost:8080/",
          "height": 235
        },
        "id": "WW1q8h1L_mou",
        "outputId": "f296e890-2f1b-4174-8ade-f9632ca8bf77"
      },
      "source": [
        "df = pd.DataFrame([euclidean,\n",
        "                  manhattan,\n",
        "                  minkowski,\n",
        "                  chebyshev,\n",
        "                  braycurtis,\n",
        "                  canberra], \n",
        "                  columns = ['accuracy','precision', 'recall', 'f1', 'time'],\n",
        "                 index = ['euclidean', 'manhattan', 'minkowski', 'chebyshev', 'braycurtis', 'canberra'])\n",
        "df"
      ],
      "execution_count": 33,
      "outputs": [
        {
          "output_type": "execute_result",
          "data": {
            "text/html": [
              "<div>\n",
              "<style scoped>\n",
              "    .dataframe tbody tr th:only-of-type {\n",
              "        vertical-align: middle;\n",
              "    }\n",
              "\n",
              "    .dataframe tbody tr th {\n",
              "        vertical-align: top;\n",
              "    }\n",
              "\n",
              "    .dataframe thead th {\n",
              "        text-align: right;\n",
              "    }\n",
              "</style>\n",
              "<table border=\"1\" class=\"dataframe\">\n",
              "  <thead>\n",
              "    <tr style=\"text-align: right;\">\n",
              "      <th></th>\n",
              "      <th>accuracy</th>\n",
              "      <th>precision</th>\n",
              "      <th>recall</th>\n",
              "      <th>f1</th>\n",
              "      <th>time</th>\n",
              "    </tr>\n",
              "  </thead>\n",
              "  <tbody>\n",
              "    <tr>\n",
              "      <th>euclidean</th>\n",
              "      <td>0.7750</td>\n",
              "      <td>0.779699</td>\n",
              "      <td>0.7750</td>\n",
              "      <td>0.776854</td>\n",
              "      <td>0.456904</td>\n",
              "    </tr>\n",
              "    <tr>\n",
              "      <th>manhattan</th>\n",
              "      <td>0.7750</td>\n",
              "      <td>0.779699</td>\n",
              "      <td>0.7750</td>\n",
              "      <td>0.776854</td>\n",
              "      <td>0.319176</td>\n",
              "    </tr>\n",
              "    <tr>\n",
              "      <th>minkowski</th>\n",
              "      <td>0.7750</td>\n",
              "      <td>0.779699</td>\n",
              "      <td>0.7750</td>\n",
              "      <td>0.776854</td>\n",
              "      <td>0.450046</td>\n",
              "    </tr>\n",
              "    <tr>\n",
              "      <th>chebyshev</th>\n",
              "      <td>0.7750</td>\n",
              "      <td>0.779699</td>\n",
              "      <td>0.7750</td>\n",
              "      <td>0.776854</td>\n",
              "      <td>0.284434</td>\n",
              "    </tr>\n",
              "    <tr>\n",
              "      <th>braycurtis</th>\n",
              "      <td>0.7375</td>\n",
              "      <td>0.735239</td>\n",
              "      <td>0.7375</td>\n",
              "      <td>0.736250</td>\n",
              "      <td>0.495114</td>\n",
              "    </tr>\n",
              "    <tr>\n",
              "      <th>canberra</th>\n",
              "      <td>0.7375</td>\n",
              "      <td>0.735239</td>\n",
              "      <td>0.7375</td>\n",
              "      <td>0.736250</td>\n",
              "      <td>0.904227</td>\n",
              "    </tr>\n",
              "  </tbody>\n",
              "</table>\n",
              "</div>"
            ],
            "text/plain": [
              "            accuracy  precision  recall        f1      time\n",
              "euclidean     0.7750   0.779699  0.7750  0.776854  0.456904\n",
              "manhattan     0.7750   0.779699  0.7750  0.776854  0.319176\n",
              "minkowski     0.7750   0.779699  0.7750  0.776854  0.450046\n",
              "chebyshev     0.7750   0.779699  0.7750  0.776854  0.284434\n",
              "braycurtis    0.7375   0.735239  0.7375  0.736250  0.495114\n",
              "canberra      0.7375   0.735239  0.7375  0.736250  0.904227"
            ]
          },
          "metadata": {},
          "execution_count": 33
        }
      ]
    },
    {
      "cell_type": "markdown",
      "metadata": {
        "id": "klJSpDYgX4T7"
      },
      "source": [
        "##Visualization"
      ]
    },
    {
      "cell_type": "code",
      "metadata": {
        "colab": {
          "base_uri": "https://localhost:8080/",
          "height": 572
        },
        "id": "m4Ym8mjN_q4B",
        "outputId": "95d4c45f-522b-49dd-a360-5f46925c0193"
      },
      "source": [
        "bar_plot(df, 'accuracy')"
      ],
      "execution_count": null,
      "outputs": [
        {
          "output_type": "display_data",
          "data": {
            "image/png": "[encoded data removed]",
            "text/plain": [
              "<Figure size 720x576 with 1 Axes>"
            ]
          },
          "metadata": {}
        }
      ]
    },
    {
      "cell_type": "code",
      "metadata": {
        "colab": {
          "base_uri": "https://localhost:8080/",
          "height": 572
        },
        "id": "cacFfqZY_wbc",
        "outputId": "7655cbc6-0d22-4e2f-c73e-6f04d2844d44"
      },
      "source": [
        "bar_plot(df, 'precision')"
      ],
      "execution_count": 34,
      "outputs": [
        {
          "output_type": "display_data",
          "data": {
            "image/png": "[encoded data removed]",
            "text/plain": [
              "<Figure size 720x576 with 1 Axes>"
            ]
          },
          "metadata": {}
        }
      ]
    },
    {
      "cell_type": "code",
      "metadata": {
        "colab": {
          "base_uri": "https://localhost:8080/",
          "height": 572
        },
        "id": "dmZCspNV_zhJ",
        "outputId": "153299df-6cfb-423c-fdbf-86d2c5e770ba"
      },
      "source": [
        "bar_plot(df, 'recall')"
      ],
      "execution_count": 35,
      "outputs": [
        {
          "output_type": "display_data",
          "data": {
            "image/png": "[encoded data removed]",
            "text/plain": [
              "<Figure size 720x576 with 1 Axes>"
            ]
          },
          "metadata": {}
        }
      ]
    },
    {
      "cell_type": "code",
      "metadata": {
        "colab": {
          "base_uri": "https://localhost:8080/",
          "height": 572
        },
        "id": "TWIJz6Cv_3Gv",
        "outputId": "a5c291bf-a792-4e0d-e533-edc7983e9b92"
      },
      "source": [
        "bar_plot(df, 'f1')"
      ],
      "execution_count": 36,
      "outputs": [
        {
          "output_type": "display_data",
          "data": {
            "image/png": "[encoded data removed]",
            "text/plain": [
              "<Figure size 720x576 with 1 Axes>"
            ]
          },
          "metadata": {}
        }
      ]
    },
    {
      "cell_type": "code",
      "metadata": {
        "id": "Gt9czAhX_-lq",
        "colab": {
          "base_uri": "https://localhost:8080/",
          "height": 572
        },
        "outputId": "18a9a291-fd17-4299-d532-434fd6283323"
      },
      "source": [
        "bar_plot(df, 'time')"
      ],
      "execution_count": 37,
      "outputs": [
        {
          "output_type": "display_data",
          "data": {
            "image/png": "[encoded data removed]",
            "text/plain": [
              "<Figure size 720x576 with 1 Axes>"
            ]
          },
          "metadata": {}
        }
      ]
    },
    {
      "cell_type": "markdown",
      "metadata": {
        "id": "-Y10w0LHX54J"
      },
      "source": [
        "## Kesimpulan"
      ]
    },
    {
      "cell_type": "markdown",
      "metadata": {
        "id": "6DAxdZytYsz8"
      },
      "source": [
        "kesimpulannya adalah metode  perhitungan  jarak  Euclidean lebih  baik  dari  pada  metode  Manhattan dan  Minkowski. sedangakan perbandingan  metode  perhitungan Manhattan,canberra\t, Euclidean dan Chebyshev Distance pada algoritma k-means  untuk  mengetahui  mean  absolute  error.  Hasil pengujian  yang  dilakukan  menggunakan Social Network  dataset  menunjukkan  bahwa metode  perhitungan  Chebyshev Distance lebih  baik  dari  metode  Manhattan  dan  Euclidean. Oleh karena itu, metode perhitungan jarak Manhattan,braycur Euclidean dan Chebyshev saling unggul antara satu dengan yang lain tergantung data-set  yang digunakan "
      ]
    }
  ]
}